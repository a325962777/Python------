{
 "cells": [
  {
   "cell_type": "code",
   "execution_count": 1,
   "id": "28ec75fd-b39f-40ae-8b5d-bdd5e5b0a4d7",
   "metadata": {},
   "outputs": [
    {
     "name": "stdout",
     "output_type": "stream",
     "text": [
      "Collecting numpy\n",
      "  Downloading numpy-1.26.4-cp310-cp310-win_amd64.whl.metadata (61 kB)\n",
      "     ---------------------------------------- 0.0/61.0 kB ? eta -:--:--\n",
      "     ------------------------- ------------ 41.0/61.0 kB 667.8 kB/s eta 0:00:01\n",
      "     -------------------------------------- 61.0/61.0 kB 819.4 kB/s eta 0:00:00\n",
      "Downloading numpy-1.26.4-cp310-cp310-win_amd64.whl (15.8 MB)\n",
      "   ---------------------------------------- 0.0/15.8 MB ? eta -:--:--\n",
      "   ---------------------------------------- 0.0/15.8 MB 1.3 MB/s eta 0:00:13\n",
      "   ---------------------------------------- 0.1/15.8 MB 1.6 MB/s eta 0:00:10\n",
      "    --------------------------------------- 0.3/15.8 MB 2.0 MB/s eta 0:00:08\n",
      "   - -------------------------------------- 0.4/15.8 MB 2.4 MB/s eta 0:00:07\n",
      "   - -------------------------------------- 0.6/15.8 MB 2.8 MB/s eta 0:00:06\n",
      "   - -------------------------------------- 0.8/15.8 MB 2.8 MB/s eta 0:00:06\n",
      "   -- ------------------------------------- 0.9/15.8 MB 3.0 MB/s eta 0:00:05\n",
      "   -- ------------------------------------- 1.1/15.8 MB 3.0 MB/s eta 0:00:05\n",
      "   --- ------------------------------------ 1.3/15.8 MB 3.0 MB/s eta 0:00:05\n",
      "   --- ------------------------------------ 1.4/15.8 MB 3.2 MB/s eta 0:00:05\n",
      "   ---- ----------------------------------- 1.7/15.8 MB 3.4 MB/s eta 0:00:05\n",
      "   ---- ----------------------------------- 1.9/15.8 MB 3.5 MB/s eta 0:00:04\n",
      "   ----- ---------------------------------- 2.2/15.8 MB 3.7 MB/s eta 0:00:04\n",
      "   ------ --------------------------------- 2.4/15.8 MB 3.9 MB/s eta 0:00:04\n",
      "   ------ --------------------------------- 2.7/15.8 MB 3.9 MB/s eta 0:00:04\n",
      "   ------- -------------------------------- 2.9/15.8 MB 4.0 MB/s eta 0:00:04\n",
      "   -------- ------------------------------- 3.2/15.8 MB 4.1 MB/s eta 0:00:04\n",
      "   -------- ------------------------------- 3.3/15.8 MB 4.2 MB/s eta 0:00:03\n",
      "   --------- ------------------------------ 3.6/15.8 MB 4.2 MB/s eta 0:00:03\n",
      "   --------- ------------------------------ 3.8/15.8 MB 4.3 MB/s eta 0:00:03\n",
      "   ---------- ----------------------------- 4.0/15.8 MB 4.3 MB/s eta 0:00:03\n",
      "   ---------- ----------------------------- 4.3/15.8 MB 4.4 MB/s eta 0:00:03\n",
      "   ----------- ---------------------------- 4.5/15.8 MB 4.6 MB/s eta 0:00:03\n",
      "   ------------ --------------------------- 4.8/15.8 MB 4.6 MB/s eta 0:00:03\n",
      "   ------------ --------------------------- 5.1/15.8 MB 4.7 MB/s eta 0:00:03\n",
      "   ------------- -------------------------- 5.3/15.8 MB 4.7 MB/s eta 0:00:03\n",
      "   -------------- ------------------------- 5.6/15.8 MB 4.7 MB/s eta 0:00:03\n",
      "   -------------- ------------------------- 5.9/15.8 MB 4.8 MB/s eta 0:00:03\n",
      "   --------------- ------------------------ 6.2/15.8 MB 4.8 MB/s eta 0:00:02\n",
      "   ---------------- ----------------------- 6.5/15.8 MB 4.9 MB/s eta 0:00:02\n",
      "   ----------------- ---------------------- 6.7/15.8 MB 4.9 MB/s eta 0:00:02\n",
      "   ----------------- ---------------------- 6.9/15.8 MB 4.9 MB/s eta 0:00:02\n",
      "   ------------------ --------------------- 7.1/15.8 MB 4.9 MB/s eta 0:00:02\n",
      "   ------------------ --------------------- 7.4/15.8 MB 4.8 MB/s eta 0:00:02\n",
      "   ------------------- -------------------- 7.6/15.8 MB 4.9 MB/s eta 0:00:02\n",
      "   ------------------- -------------------- 7.9/15.8 MB 4.9 MB/s eta 0:00:02\n",
      "   -------------------- ------------------- 8.1/15.8 MB 4.9 MB/s eta 0:00:02\n",
      "   --------------------- ------------------ 8.3/15.8 MB 4.9 MB/s eta 0:00:02\n",
      "   --------------------- ------------------ 8.6/15.8 MB 4.9 MB/s eta 0:00:02\n",
      "   ---------------------- ----------------- 8.9/15.8 MB 5.0 MB/s eta 0:00:02\n",
      "   ----------------------- ---------------- 9.2/15.8 MB 5.0 MB/s eta 0:00:02\n",
      "   ----------------------- ---------------- 9.3/15.8 MB 5.0 MB/s eta 0:00:02\n",
      "   ------------------------ --------------- 9.7/15.8 MB 5.0 MB/s eta 0:00:02\n",
      "   ------------------------- -------------- 10.0/15.8 MB 5.0 MB/s eta 0:00:02\n",
      "   -------------------------- ------------- 10.3/15.8 MB 5.2 MB/s eta 0:00:02\n",
      "   -------------------------- ------------- 10.6/15.8 MB 5.3 MB/s eta 0:00:01\n",
      "   --------------------------- ------------ 10.8/15.8 MB 5.4 MB/s eta 0:00:01\n",
      "   ---------------------------- ----------- 11.1/15.8 MB 5.5 MB/s eta 0:00:01\n",
      "   ---------------------------- ----------- 11.3/15.8 MB 5.5 MB/s eta 0:00:01\n",
      "   ----------------------------- ---------- 11.6/15.8 MB 5.6 MB/s eta 0:00:01\n",
      "   ------------------------------ --------- 11.9/15.8 MB 5.6 MB/s eta 0:00:01\n",
      "   ------------------------------ --------- 12.2/15.8 MB 5.6 MB/s eta 0:00:01\n",
      "   ------------------------------- -------- 12.5/15.8 MB 5.6 MB/s eta 0:00:01\n",
      "   -------------------------------- ------- 12.8/15.8 MB 5.6 MB/s eta 0:00:01\n",
      "   --------------------------------- ------ 13.1/15.8 MB 5.6 MB/s eta 0:00:01\n",
      "   --------------------------------- ------ 13.3/15.8 MB 5.7 MB/s eta 0:00:01\n",
      "   ---------------------------------- ----- 13.6/15.8 MB 5.7 MB/s eta 0:00:01\n",
      "   ---------------------------------- ----- 13.8/15.8 MB 5.7 MB/s eta 0:00:01\n",
      "   ----------------------------------- ---- 14.1/15.8 MB 5.7 MB/s eta 0:00:01\n",
      "   ------------------------------------ --- 14.4/15.8 MB 5.7 MB/s eta 0:00:01\n",
      "   ------------------------------------- -- 14.7/15.8 MB 5.7 MB/s eta 0:00:01\n",
      "   ------------------------------------- -- 14.8/15.8 MB 5.6 MB/s eta 0:00:01\n",
      "   -------------------------------------- - 15.2/15.8 MB 5.6 MB/s eta 0:00:01\n",
      "   ---------------------------------------  15.5/15.8 MB 5.6 MB/s eta 0:00:01\n",
      "   ---------------------------------------  15.7/15.8 MB 5.6 MB/s eta 0:00:01\n",
      "   ---------------------------------------  15.8/15.8 MB 5.6 MB/s eta 0:00:01\n",
      "   ---------------------------------------- 15.8/15.8 MB 5.5 MB/s eta 0:00:00\n",
      "Installing collected packages: numpy\n",
      "Note: you may need to restart the kernel to use updated packages.\n"
     ]
    },
    {
     "name": "stderr",
     "output_type": "stream",
     "text": [
      "  WARNING: Failed to write executable - trying to use .deleteme logic\n",
      "ERROR: Could not install packages due to an OSError: [WinError 2] The system cannot find the file specified: 'C:\\\\Python310\\\\Scripts\\\\f2py.exe' -> 'C:\\\\Python310\\\\Scripts\\\\f2py.exe.deleteme'\n",
      "\n",
      "\n",
      "[notice] A new release of pip is available: 23.3.2 -> 24.0\n",
      "[notice] To update, run: python.exe -m pip install --upgrade pip\n"
     ]
    }
   ],
   "source": [
    "pip install numpy\n"
   ]
  },
  {
   "cell_type": "code",
   "execution_count": 2,
   "id": "4779406f-1742-4948-9975-5ba6fe03661d",
   "metadata": {},
   "outputs": [],
   "source": [
    "import numpy as np\n"
   ]
  },
  {
   "cell_type": "code",
   "execution_count": 5,
   "id": "96fa53a0-6e1b-4415-8f6c-a889f3c355ad",
   "metadata": {},
   "outputs": [],
   "source": [
    "arr=np.random.randint(1,10 , size=(3,3))"
   ]
  },
  {
   "cell_type": "code",
   "execution_count": 6,
   "id": "6b2ed6fc-732a-4376-9991-e8be11789e8c",
   "metadata": {},
   "outputs": [
    {
     "data": {
      "text/plain": [
       "array([[4, 6, 6],\n",
       "       [5, 5, 1],\n",
       "       [6, 1, 9]])"
      ]
     },
     "execution_count": 6,
     "metadata": {},
     "output_type": "execute_result"
    }
   ],
   "source": [
    "arr"
   ]
  },
  {
   "cell_type": "code",
   "execution_count": 7,
   "id": "54fb40d0-a657-4c6b-ab07-9445a465e57f",
   "metadata": {},
   "outputs": [
    {
     "data": {
      "text/plain": [
       "2"
      ]
     },
     "execution_count": 7,
     "metadata": {},
     "output_type": "execute_result"
    }
   ],
   "source": [
    "np.size(arr)"
   ]
  },
  {
   "cell_type": "code",
   "execution_count": 8,
   "id": "3aec29c2-1fd3-4e6a-9a7f-02748a5f3622",
   "metadata": {},
   "outputs": [
    {
     "data": {
      "text/plain": [
       "dtype('int32')"
      ]
     },
     "execution_count": 8,
     "metadata": {},
     "output_type": "execute_result"
    }
   ],
   "source": [
    "arr.dtype"
   ]
  },
  {
   "cell_type": "code",
   "execution_count": 9,
   "id": "0ab9d916-dcb5-481c-8757-f23283f3af36",
   "metadata": {},
   "outputs": [
    {
     "data": {
      "text/plain": [
       "2"
      ]
     },
     "execution_count": 9,
     "metadata": {},
     "output_type": "execute_result"
    }
   ],
   "source": [
    "np.ndim(arr)"
   ]
  },
  {
   "cell_type": "code",
   "execution_count": 14,
   "id": "4842d1db-20a9-4b59-874a-88265b582f80",
   "metadata": {},
   "outputs": [],
   "source": [
    "do_arr = np.random.randint(10,100,size=(2,5))"
   ]
  },
  {
   "cell_type": "code",
   "execution_count": 15,
   "id": "9d70d98e-80f7-4455-8b6a-93376f9cc88f",
   "metadata": {},
   "outputs": [
    {
     "data": {
      "text/plain": [
       "array([[48, 63, 14, 77, 57],\n",
       "       [76, 28, 26, 84, 75]])"
      ]
     },
     "execution_count": 15,
     "metadata": {},
     "output_type": "execute_result"
    }
   ],
   "source": [
    "do_arr"
   ]
  },
  {
   "cell_type": "code",
   "execution_count": 16,
   "id": "fc829a13-7cb6-4001-9d85-1b40d9220308",
   "metadata": {},
   "outputs": [
    {
     "data": {
      "text/plain": [
       "(2, 5)"
      ]
     },
     "execution_count": 16,
     "metadata": {},
     "output_type": "execute_result"
    }
   ],
   "source": [
    "do_arr.shape"
   ]
  },
  {
   "cell_type": "code",
   "execution_count": 17,
   "id": "b561f63b-f668-4060-a489-a0a9c4bae05e",
   "metadata": {},
   "outputs": [],
   "source": [
    "arr_r = np.random.randint(1,50,size=(10))"
   ]
  },
  {
   "cell_type": "code",
   "execution_count": 18,
   "id": "cc41ec28-b71e-4519-8830-d74d6e8c8842",
   "metadata": {},
   "outputs": [
    {
     "data": {
      "text/plain": [
       "array([33, 38, 10, 35, 18, 38,  3, 23, 42, 24])"
      ]
     },
     "execution_count": 18,
     "metadata": {},
     "output_type": "execute_result"
    }
   ],
   "source": [
    "arr_r"
   ]
  },
  {
   "cell_type": "code",
   "execution_count": 19,
   "id": "b321f44a-18af-48f2-83bc-79f698d02caa",
   "metadata": {},
   "outputs": [
    {
     "data": {
      "text/plain": [
       "26.4"
      ]
     },
     "execution_count": 19,
     "metadata": {},
     "output_type": "execute_result"
    }
   ],
   "source": [
    "np.mean(arr_r)"
   ]
  },
  {
   "cell_type": "code",
   "execution_count": 25,
   "id": "3289396a-2b29-47bc-9575-44f364e52b47",
   "metadata": {},
   "outputs": [],
   "source": [
    "a = np.random.randint(1,50,size=(1,2))"
   ]
  },
  {
   "cell_type": "code",
   "execution_count": 26,
   "id": "50067639-e940-43ad-addb-fcc21ed08bbb",
   "metadata": {},
   "outputs": [],
   "source": [
    "b = np.random.randint(1,50,size=(1,2))"
   ]
  },
  {
   "cell_type": "code",
   "execution_count": 27,
   "id": "11128631-6ca3-493b-a17a-35fc71b3cded",
   "metadata": {},
   "outputs": [
    {
     "data": {
      "text/plain": [
       "array([[46, 36]])"
      ]
     },
     "execution_count": 27,
     "metadata": {},
     "output_type": "execute_result"
    }
   ],
   "source": [
    "a"
   ]
  },
  {
   "cell_type": "code",
   "execution_count": 28,
   "id": "3eb8005a-130b-4191-96ef-5184532810f5",
   "metadata": {},
   "outputs": [
    {
     "data": {
      "text/plain": [
       "array([[ 8, 17]])"
      ]
     },
     "execution_count": 28,
     "metadata": {},
     "output_type": "execute_result"
    }
   ],
   "source": [
    "b"
   ]
  },
  {
   "cell_type": "code",
   "execution_count": 29,
   "id": "23e63f99-6391-4917-b226-f8063e9d28b1",
   "metadata": {},
   "outputs": [
    {
     "data": {
      "text/plain": [
       "array([[54, 53]])"
      ]
     },
     "execution_count": 29,
     "metadata": {},
     "output_type": "execute_result"
    }
   ],
   "source": [
    "a+b"
   ]
  },
  {
   "cell_type": "code",
   "execution_count": 30,
   "id": "ab697303-f43b-4fb1-8ed1-9fec6a1aaf64",
   "metadata": {},
   "outputs": [],
   "source": [
    "list = np.random.randint(1,100,size=(20))"
   ]
  },
  {
   "cell_type": "code",
   "execution_count": 31,
   "id": "27381e18-a847-41f2-92e2-3f57772a1c14",
   "metadata": {},
   "outputs": [
    {
     "data": {
      "text/plain": [
       "array([48, 89, 69,  1,  3, 77, 91, 50, 16, 42, 83, 20, 46,  8, 95, 23, 95,\n",
       "       28, 43, 38])"
      ]
     },
     "execution_count": 31,
     "metadata": {},
     "output_type": "execute_result"
    }
   ],
   "source": [
    "list"
   ]
  },
  {
   "cell_type": "code",
   "execution_count": 38,
   "id": "23090d38-4480-4ed8-b4fe-c3b78486079c",
   "metadata": {},
   "outputs": [],
   "source": [
    "list_l = list[list>50]"
   ]
  },
  {
   "cell_type": "code",
   "execution_count": 39,
   "id": "796716fe-4366-4510-a7b4-b21b81912732",
   "metadata": {},
   "outputs": [
    {
     "data": {
      "text/plain": [
       "array([89, 69, 77, 91, 83, 95, 95])"
      ]
     },
     "execution_count": 39,
     "metadata": {},
     "output_type": "execute_result"
    }
   ],
   "source": [
    "list_l"
   ]
  },
  {
   "cell_type": "code",
   "execution_count": 43,
   "id": "7b5d43b3-6db6-4156-80e4-e9dcd20cec8b",
   "metadata": {},
   "outputs": [],
   "source": [
    "l = np.random.randint(1,10,size=(10))"
   ]
  },
  {
   "cell_type": "code",
   "execution_count": 44,
   "id": "c82d88a9-3ce4-4503-9277-74003cf04704",
   "metadata": {},
   "outputs": [
    {
     "data": {
      "text/plain": [
       "array([9, 5, 5, 7, 1, 6, 2, 3, 8, 8])"
      ]
     },
     "execution_count": 44,
     "metadata": {},
     "output_type": "execute_result"
    }
   ],
   "source": [
    "l"
   ]
  },
  {
   "cell_type": "code",
   "execution_count": 46,
   "id": "d05f6a8e-b1e4-4fe2-87e0-8733f222abc3",
   "metadata": {},
   "outputs": [],
   "source": [
    "np.random.shuffle(l)"
   ]
  },
  {
   "cell_type": "code",
   "execution_count": 47,
   "id": "cc45f4c9-e099-4a0c-8803-a9c7b2abdc50",
   "metadata": {},
   "outputs": [
    {
     "data": {
      "text/plain": [
       "array([1, 2, 8, 5, 7, 9, 8, 3, 5, 6])"
      ]
     },
     "execution_count": 47,
     "metadata": {},
     "output_type": "execute_result"
    }
   ],
   "source": [
    "l"
   ]
  },
  {
   "cell_type": "code",
   "execution_count": null,
   "id": "8275fc26-ef2f-4a56-b485-0b2aca180f5f",
   "metadata": {},
   "outputs": [],
   "source": []
  }
 ],
 "metadata": {
  "kernelspec": {
   "display_name": "Python 3 (ipykernel)",
   "language": "python",
   "name": "python3"
  },
  "language_info": {
   "codemirror_mode": {
    "name": "ipython",
    "version": 3
   },
   "file_extension": ".py",
   "mimetype": "text/x-python",
   "name": "python",
   "nbconvert_exporter": "python",
   "pygments_lexer": "ipython3",
   "version": "3.10.8"
  }
 },
 "nbformat": 4,
 "nbformat_minor": 5
}
